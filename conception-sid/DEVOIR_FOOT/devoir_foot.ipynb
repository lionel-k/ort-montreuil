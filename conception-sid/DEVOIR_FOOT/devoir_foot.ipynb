{
 "cells": [
  {
   "cell_type": "code",
   "execution_count": 337,
   "id": "3e36f086",
   "metadata": {
    "scrolled": false
   },
   "outputs": [
    {
     "data": {
      "text/html": [
       "<div>\n",
       "<style scoped>\n",
       "    .dataframe tbody tr th:only-of-type {\n",
       "        vertical-align: middle;\n",
       "    }\n",
       "\n",
       "    .dataframe tbody tr th {\n",
       "        vertical-align: top;\n",
       "    }\n",
       "\n",
       "    .dataframe thead th {\n",
       "        text-align: right;\n",
       "    }\n",
       "</style>\n",
       "<table border=\"1\" class=\"dataframe\">\n",
       "  <thead>\n",
       "    <tr style=\"text-align: right;\">\n",
       "      <th></th>\n",
       "      <th>domicile</th>\n",
       "      <th>externe</th>\n",
       "      <th>but_domicie</th>\n",
       "      <th>but_externe</th>\n",
       "    </tr>\n",
       "  </thead>\n",
       "  <tbody>\n",
       "    <tr>\n",
       "      <th>0</th>\n",
       "      <td>Angers</td>\n",
       "      <td>Paris-SG</td>\n",
       "      <td>5</td>\n",
       "      <td>3</td>\n",
       "    </tr>\n",
       "    <tr>\n",
       "      <th>1</th>\n",
       "      <td>Angers</td>\n",
       "      <td>Rennes</td>\n",
       "      <td>2</td>\n",
       "      <td>5</td>\n",
       "    </tr>\n",
       "    <tr>\n",
       "      <th>2</th>\n",
       "      <td>Angers</td>\n",
       "      <td>Marseille</td>\n",
       "      <td>3</td>\n",
       "      <td>5</td>\n",
       "    </tr>\n",
       "    <tr>\n",
       "      <th>3</th>\n",
       "      <td>Angers</td>\n",
       "      <td>Nice</td>\n",
       "      <td>1</td>\n",
       "      <td>3</td>\n",
       "    </tr>\n",
       "    <tr>\n",
       "      <th>4</th>\n",
       "      <td>Angers</td>\n",
       "      <td>Lens</td>\n",
       "      <td>0</td>\n",
       "      <td>2</td>\n",
       "    </tr>\n",
       "    <tr>\n",
       "      <th>5</th>\n",
       "      <td>Angers</td>\n",
       "      <td>Brest</td>\n",
       "      <td>5</td>\n",
       "      <td>3</td>\n",
       "    </tr>\n",
       "    <tr>\n",
       "      <th>6</th>\n",
       "      <td>Angers</td>\n",
       "      <td>Lille</td>\n",
       "      <td>1</td>\n",
       "      <td>5</td>\n",
       "    </tr>\n",
       "    <tr>\n",
       "      <th>7</th>\n",
       "      <td>Angers</td>\n",
       "      <td>Strasbourg</td>\n",
       "      <td>2</td>\n",
       "      <td>5</td>\n",
       "    </tr>\n",
       "    <tr>\n",
       "      <th>8</th>\n",
       "      <td>Angers</td>\n",
       "      <td>Monaco</td>\n",
       "      <td>5</td>\n",
       "      <td>0</td>\n",
       "    </tr>\n",
       "    <tr>\n",
       "      <th>9</th>\n",
       "      <td>Angers</td>\n",
       "      <td>Montpellier</td>\n",
       "      <td>5</td>\n",
       "      <td>2</td>\n",
       "    </tr>\n",
       "    <tr>\n",
       "      <th>10</th>\n",
       "      <td>Angers</td>\n",
       "      <td>Lyon</td>\n",
       "      <td>3</td>\n",
       "      <td>3</td>\n",
       "    </tr>\n",
       "    <tr>\n",
       "      <th>11</th>\n",
       "      <td>Angers</td>\n",
       "      <td>Nantes</td>\n",
       "      <td>1</td>\n",
       "      <td>0</td>\n",
       "    </tr>\n",
       "    <tr>\n",
       "      <th>12</th>\n",
       "      <td>Angers</td>\n",
       "      <td>Reims</td>\n",
       "      <td>1</td>\n",
       "      <td>3</td>\n",
       "    </tr>\n",
       "    <tr>\n",
       "      <th>13</th>\n",
       "      <td>Angers</td>\n",
       "      <td>Troyes</td>\n",
       "      <td>4</td>\n",
       "      <td>2</td>\n",
       "    </tr>\n",
       "    <tr>\n",
       "      <th>14</th>\n",
       "      <td>Angers</td>\n",
       "      <td>Lorient</td>\n",
       "      <td>5</td>\n",
       "      <td>4</td>\n",
       "    </tr>\n",
       "    <tr>\n",
       "      <th>15</th>\n",
       "      <td>Angers</td>\n",
       "      <td>Clermont</td>\n",
       "      <td>4</td>\n",
       "      <td>0</td>\n",
       "    </tr>\n",
       "    <tr>\n",
       "      <th>16</th>\n",
       "      <td>Angers</td>\n",
       "      <td>Bordeaux</td>\n",
       "      <td>1</td>\n",
       "      <td>3</td>\n",
       "    </tr>\n",
       "    <tr>\n",
       "      <th>17</th>\n",
       "      <td>Angers</td>\n",
       "      <td>Metz</td>\n",
       "      <td>3</td>\n",
       "      <td>0</td>\n",
       "    </tr>\n",
       "    <tr>\n",
       "      <th>18</th>\n",
       "      <td>Angers</td>\n",
       "      <td>Saint-Etienne</td>\n",
       "      <td>0</td>\n",
       "      <td>1</td>\n",
       "    </tr>\n",
       "  </tbody>\n",
       "</table>\n",
       "</div>"
      ],
      "text/plain": [
       "   domicile        externe   but_domicie   but_externe\n",
       "0    Angers       Paris-SG             5             3\n",
       "1    Angers         Rennes             2             5\n",
       "2    Angers      Marseille             3             5\n",
       "3    Angers           Nice             1             3\n",
       "4    Angers           Lens             0             2\n",
       "5    Angers          Brest             5             3\n",
       "6    Angers          Lille             1             5\n",
       "7    Angers     Strasbourg             2             5\n",
       "8    Angers         Monaco             5             0\n",
       "9    Angers    Montpellier             5             2\n",
       "10   Angers           Lyon             3             3\n",
       "11   Angers         Nantes             1             0\n",
       "12   Angers          Reims             1             3\n",
       "13   Angers         Troyes             4             2\n",
       "14   Angers        Lorient             5             4\n",
       "15   Angers       Clermont             4             0\n",
       "16   Angers       Bordeaux             1             3\n",
       "17   Angers           Metz             3             0\n",
       "18   Angers  Saint-Etienne             0             1"
      ]
     },
     "execution_count": 337,
     "metadata": {},
     "output_type": "execute_result"
    }
   ],
   "source": [
    "import pandas as pd\n",
    "import numpy as np\n",
    "#anger = pandas.DataFrame(anger, columns=['domicile', 'externe', 'but_domicie', 'but_externe'])\n",
    "\n",
    "angers = pandas.read_csv('dataset-6-random-score-Angers.csv')\n",
    "recap = pandas.read_csv('teams.csv')\n",
    "pt_angers = 0\n",
    "pt_paris = 0\n",
    "pt_rennes = 0\n",
    "pt_marseille = 0\n",
    "pt_nice = 0\n",
    "pt_lens = 0\n",
    "pt_brest = 0\n",
    "pt_lille = 0\n",
    "pt_strasbourg = 0\n",
    "pt_monaco = 0\n",
    "pt_montpellier = 0\n",
    "pt_lyon = 0\n",
    "pt_nantes = 0\n",
    "pt_reims = 0\n",
    "pt_troyes = 0\n",
    "pt_lorient = 0\n",
    "pt_clemont = 0\n",
    "pt_bordeaux = 0\n",
    "pt_metz = 0\n",
    "pt_sant_etienne = 0\n",
    "angers"
   ]
  },
  {
   "cell_type": "code",
   "execution_count": 160,
   "id": "98fb0f36",
   "metadata": {},
   "outputs": [
    {
     "name": "stdout",
     "output_type": "stream",
     "text": [
      "3 0\n",
      "6 0\n",
      "9 0\n",
      "12 0\n",
      "15 0\n",
      "18 0\n",
      "21 0\n",
      "24 0\n",
      "27 0\n",
      "30 0\n",
      "33 0\n",
      "36 0\n",
      "39 0\n",
      "42 0\n",
      "45 0\n",
      "48 0\n",
      "51 0\n",
      "54 0\n",
      "57 0\n"
     ]
    }
   ],
   "source": [
    "domicile = angers.iloc[0,0]\n",
    "externe = angers.iloc[0,1]\n",
    "compteur=0\n",
    "A=0\n",
    "B=0\n",
    "C=0\n",
    "D=0\n",
    "while (compteur < 19):\n",
    "    \n",
    "    if angers.iloc[0,2]>angers.iloc[0,3]:\n",
    "        pt_angers = pt_angers+3\n",
    "    elif angers.iloc[0,2]<angers.iloc[0,3]:\n",
    "        pt_paris = pt_paris+3\n",
    "    elif angers.iloc[0,2]<angers.iloc[0,3]:\n",
    "        pt_paris=pt_paris+1\n",
    "        pt_angers=pt_angers+1\n",
    "    print(pt_angers,pt_paris)\n",
    "    compteur = compteur+1 \n"
   ]
  },
  {
   "cell_type": "code",
   "execution_count": 87,
   "id": "732470db",
   "metadata": {
    "scrolled": false
   },
   "outputs": [],
   "source": [
    "bordeaux = pandas.read_csv('dataset-6-random-score-Bordeaux.csv')"
   ]
  },
  {
   "cell_type": "code",
   "execution_count": 88,
   "id": "d841bbc6",
   "metadata": {
    "scrolled": true
   },
   "outputs": [],
   "source": [
    "brest = pandas.read_csv('dataset-6-random-score-Brest.csv')"
   ]
  },
  {
   "cell_type": "code",
   "execution_count": 89,
   "id": "b39bd1e7",
   "metadata": {},
   "outputs": [],
   "source": [
    "clermont = pandas.read_csv('dataset-6-random-score-Clermont.csv')"
   ]
  },
  {
   "cell_type": "code",
   "execution_count": 106,
   "id": "15de874e",
   "metadata": {},
   "outputs": [],
   "source": [
    "lens = pandas.read_csv('dataset-6-random-score-Lens.csv')"
   ]
  },
  {
   "cell_type": "code",
   "execution_count": 91,
   "id": "c2d98af7",
   "metadata": {},
   "outputs": [],
   "source": [
    "lille = pandas.read_csv('dataset-6-random-score-Lille.csv')"
   ]
  },
  {
   "cell_type": "code",
   "execution_count": 92,
   "id": "4e8e5318",
   "metadata": {},
   "outputs": [],
   "source": [
    "lorient = pandas.read_csv('dataset-6-random-score-Lorient.csv')"
   ]
  },
  {
   "cell_type": "code",
   "execution_count": 93,
   "id": "bd908063",
   "metadata": {},
   "outputs": [],
   "source": [
    "lyon = pandas.read_csv('dataset-6-random-score-Lyon.csv')"
   ]
  },
  {
   "cell_type": "code",
   "execution_count": 94,
   "id": "eba03d3c",
   "metadata": {},
   "outputs": [],
   "source": [
    "marseille = pandas.read_csv('dataset-6-random-score-Marseille.csv')"
   ]
  },
  {
   "cell_type": "code",
   "execution_count": 95,
   "id": "25244ce2",
   "metadata": {},
   "outputs": [],
   "source": [
    "metz = pandas.read_csv('dataset-6-random-score-Metz.csv')"
   ]
  },
  {
   "cell_type": "code",
   "execution_count": 96,
   "id": "7f1b1911",
   "metadata": {},
   "outputs": [],
   "source": [
    "monaco = pandas.read_csv('dataset-6-random-score-Monaco.csv')"
   ]
  },
  {
   "cell_type": "code",
   "execution_count": 97,
   "id": "b26959fb",
   "metadata": {},
   "outputs": [],
   "source": [
    "montpellier = pandas.read_csv('dataset-6-random-score-Montpellier.csv')"
   ]
  },
  {
   "cell_type": "code",
   "execution_count": 98,
   "id": "9e097d75",
   "metadata": {},
   "outputs": [],
   "source": [
    "nantes = pandas.read_csv('dataset-6-random-score-Nantes.csv')"
   ]
  },
  {
   "cell_type": "code",
   "execution_count": 99,
   "id": "8ee32688",
   "metadata": {},
   "outputs": [],
   "source": [
    "nice = pandas.read_csv('dataset-6-random-score-Nice.csv')"
   ]
  },
  {
   "cell_type": "code",
   "execution_count": 100,
   "id": "ea736d78",
   "metadata": {},
   "outputs": [],
   "source": [
    "paris = pandas.read_csv('dataset-6-random-score-Paris-SG.csv')"
   ]
  },
  {
   "cell_type": "code",
   "execution_count": 101,
   "id": "9aa1505f",
   "metadata": {},
   "outputs": [],
   "source": [
    "reims = pandas.read_csv('dataset-6-random-score-Reims.csv')"
   ]
  },
  {
   "cell_type": "code",
   "execution_count": 102,
   "id": "3a17cbdd",
   "metadata": {},
   "outputs": [],
   "source": [
    "rennes = pandas.read_csv('dataset-6-random-score-Rennes.csv')"
   ]
  },
  {
   "cell_type": "code",
   "execution_count": 103,
   "id": "b13f17d5",
   "metadata": {},
   "outputs": [],
   "source": [
    "etienne = pandas.read_csv('dataset-6-random-score-Saint-Etienne.csv')"
   ]
  },
  {
   "cell_type": "code",
   "execution_count": 104,
   "id": "3164e92f",
   "metadata": {
    "scrolled": true
   },
   "outputs": [],
   "source": [
    "strasbourg = pandas.read_csv('dataset-6-random-score-Strasbourg.csv')"
   ]
  },
  {
   "cell_type": "code",
   "execution_count": 105,
   "id": "f7d097a0",
   "metadata": {},
   "outputs": [],
   "source": [
    "troyes = pandas.read_csv('dataset-6-random-score-Troyes.csv')"
   ]
  },
  {
   "cell_type": "code",
   "execution_count": 260,
   "id": "02466637",
   "metadata": {},
   "outputs": [
    {
     "data": {
      "text/html": [
       "<div>\n",
       "<style scoped>\n",
       "    .dataframe tbody tr th:only-of-type {\n",
       "        vertical-align: middle;\n",
       "    }\n",
       "\n",
       "    .dataframe tbody tr th {\n",
       "        vertical-align: top;\n",
       "    }\n",
       "\n",
       "    .dataframe thead th {\n",
       "        text-align: right;\n",
       "    }\n",
       "</style>\n",
       "<table border=\"1\" class=\"dataframe\">\n",
       "  <thead>\n",
       "    <tr style=\"text-align: right;\">\n",
       "      <th></th>\n",
       "      <th>domicile</th>\n",
       "      <th>externe</th>\n",
       "      <th>but_domicie</th>\n",
       "      <th>but_externe</th>\n",
       "    </tr>\n",
       "  </thead>\n",
       "  <tbody>\n",
       "    <tr>\n",
       "      <th>0</th>\n",
       "      <td>Angers</td>\n",
       "      <td>Paris-SG</td>\n",
       "      <td>5</td>\n",
       "      <td>3</td>\n",
       "    </tr>\n",
       "    <tr>\n",
       "      <th>1</th>\n",
       "      <td>Angers</td>\n",
       "      <td>Rennes</td>\n",
       "      <td>2</td>\n",
       "      <td>5</td>\n",
       "    </tr>\n",
       "    <tr>\n",
       "      <th>2</th>\n",
       "      <td>Angers</td>\n",
       "      <td>Marseille</td>\n",
       "      <td>3</td>\n",
       "      <td>5</td>\n",
       "    </tr>\n",
       "    <tr>\n",
       "      <th>3</th>\n",
       "      <td>Angers</td>\n",
       "      <td>Nice</td>\n",
       "      <td>1</td>\n",
       "      <td>3</td>\n",
       "    </tr>\n",
       "    <tr>\n",
       "      <th>4</th>\n",
       "      <td>Angers</td>\n",
       "      <td>Lens</td>\n",
       "      <td>0</td>\n",
       "      <td>2</td>\n",
       "    </tr>\n",
       "    <tr>\n",
       "      <th>...</th>\n",
       "      <td>...</td>\n",
       "      <td>...</td>\n",
       "      <td>...</td>\n",
       "      <td>...</td>\n",
       "    </tr>\n",
       "    <tr>\n",
       "      <th>14</th>\n",
       "      <td>Troyes</td>\n",
       "      <td>Lorient</td>\n",
       "      <td>5</td>\n",
       "      <td>0</td>\n",
       "    </tr>\n",
       "    <tr>\n",
       "      <th>15</th>\n",
       "      <td>Troyes</td>\n",
       "      <td>Clermont</td>\n",
       "      <td>3</td>\n",
       "      <td>3</td>\n",
       "    </tr>\n",
       "    <tr>\n",
       "      <th>16</th>\n",
       "      <td>Troyes</td>\n",
       "      <td>Bordeaux</td>\n",
       "      <td>2</td>\n",
       "      <td>4</td>\n",
       "    </tr>\n",
       "    <tr>\n",
       "      <th>17</th>\n",
       "      <td>Troyes</td>\n",
       "      <td>Metz</td>\n",
       "      <td>1</td>\n",
       "      <td>5</td>\n",
       "    </tr>\n",
       "    <tr>\n",
       "      <th>18</th>\n",
       "      <td>Troyes</td>\n",
       "      <td>Saint-Etienne</td>\n",
       "      <td>4</td>\n",
       "      <td>0</td>\n",
       "    </tr>\n",
       "  </tbody>\n",
       "</table>\n",
       "<p>380 rows × 4 columns</p>\n",
       "</div>"
      ],
      "text/plain": [
       "   domicile        externe   but_domicie   but_externe\n",
       "0    Angers       Paris-SG             5             3\n",
       "1    Angers         Rennes             2             5\n",
       "2    Angers      Marseille             3             5\n",
       "3    Angers           Nice             1             3\n",
       "4    Angers           Lens             0             2\n",
       "..      ...            ...           ...           ...\n",
       "14   Troyes        Lorient             5             0\n",
       "15   Troyes       Clermont             3             3\n",
       "16   Troyes       Bordeaux             2             4\n",
       "17   Troyes           Metz             1             5\n",
       "18   Troyes  Saint-Etienne             4             0\n",
       "\n",
       "[380 rows x 4 columns]"
      ]
     },
     "execution_count": 260,
     "metadata": {},
     "output_type": "execute_result"
    }
   ],
   "source": [
    "data_frame = [angers,bordeaux,brest,clermont,lens,lille,lorient,lyon,marseille,metz,monaco,montpellier,nantes,nice,paris,reims,rennes,etienne,strasbourg,troyes]\n",
    "data_frame_all = pandas.concat(data_frame, axis=0)\n",
    "data_frame_all"
   ]
  },
  {
   "cell_type": "code",
   "execution_count": 366,
   "id": "0b1292c6",
   "metadata": {
    "scrolled": true
   },
   "outputs": [
    {
     "name": "stdout",
     "output_type": "stream",
     "text": [
      "           club\n",
      "77       angers\n",
      "71     bordeaux\n",
      "71        brest\n",
      "82     clermont\n",
      "75         lens\n",
      "72        lille\n",
      "77      lorient\n",
      "77         lyon\n",
      "65    marseille\n",
      "87         metz\n",
      "81       monaco\n",
      "71  montpellier\n",
      "68       nantes\n",
      "75         nice\n",
      "81        paris\n",
      "72        reims\n",
      "69       rennes\n",
      "76      etienne\n",
      "59   strasbourg\n",
      "79       troyes\n"
     ]
    }
   ],
   "source": [
    "def calPointTotalEquipe(frame, equipe):\n",
    "    pt=0\n",
    "    for row in frame.itertuples():\n",
    "        ##match Alle\n",
    "        if(row[3]> row[4] and row[0]==equipe):\n",
    "            pt+=3\n",
    "        if(row[3] == row[4]):\n",
    "            pt+=1\n",
    "        ##match retour\n",
    "        if(row[3] < row[4] and row[1]==equipe):\n",
    "            pt+=3\n",
    "        if(row[3] == row[4] and row[1]==equipe):\n",
    "            pt+=1\n",
    "    return pt\n",
    "#def pointPouruneequipe(frame, equipe):\n",
    "#    pt=0\n",
    "#   for row in frame.itertuples():\n",
    "#        if(row[3] < row[4] and row[1]==equipe):\n",
    "#            pt+=3\n",
    "#        if(row[3] == row[4] and row[1]==equipe):\n",
    "#            pt+=1\n",
    "#    return pt\n",
    "listeEquipe=[\"Angers\",\"Paris-SG\",\"Rennes\",\"Marseille\",\"Nice\",\"Lens\",\"Brest\",\"Lille\",\"Strasbourg\",\"Monaco\",\"Montpellier\"\n",
    "             ,\"Lyon\",\"Nantes\",\"Reims\",\"Troyes\",\"Lorient\",\"Clermont\",\"Bordeaux\",\"Metz\",\"Saint-Etienne\"]\n",
    "\n",
    "def allmarks(data, Lequipe, equipe):\n",
    "    for n in Lequipe:\n",
    "        if(n == equipe):\n",
    "            PT = calPointTotalEquipe(data_frame_all, n)\n",
    "            return PT\n",
    "        \n",
    "    \n",
    "pt_angers=allmarks(data_frame_all, listeEquipe, \"Angers\")\n",
    "pt_paris=allmarks(data_frame_all, listeEquipe, \"Paris-SG\")\n",
    "pt_rennes = allmarks(data_frame_all, listeEquipe, \"Rennes\")\n",
    "pt_marseille = allmarks(data_frame_all, listeEquipe, \"Marseille\")\n",
    "pt_nice = allmarks(data_frame_all, listeEquipe, \"Nice\")\n",
    "pt_lens = allmarks(data_frame_all, listeEquipe, \"Lens\")\n",
    "pt_brest = allmarks(data_frame_all, listeEquipe, \"Brest\")\n",
    "pt_lille = allmarks(data_frame_all, listeEquipe, \"Lille\")\n",
    "pt_strasbourg = allmarks(data_frame_all, listeEquipe, \"Strasbourg\")\n",
    "pt_monaco = allmarks(data_frame_all, listeEquipe, \"Monaco\")\n",
    "pt_montpellier = allmarks(data_frame_all, listeEquipe, \"Montpellier\")\n",
    "pt_lyon = allmarks(data_frame_all, listeEquipe, \"Lyon\")\n",
    "pt_nantes = allmarks(data_frame_all, listeEquipe, \"Nantes\")\n",
    "pt_reims = allmarks(data_frame_all, listeEquipe, \"Reims\")\n",
    "pt_troyes = allmarks(data_frame_all, listeEquipe, \"Troyes\")\n",
    "pt_lorient = allmarks(data_frame_all, listeEquipe, \"Lorient\")\n",
    "pt_clemont = allmarks(data_frame_all, listeEquipe, \"Clermont\")\n",
    "pt_bordeaux = allmarks(data_frame_all, listeEquipe, \"Bordeaux\")\n",
    "pt_metz = allmarks(data_frame_all, listeEquipe, \"Metz\")\n",
    "pt_sant_etienne = allmarks(data_frame_all, listeEquipe, \"Saint-Etienne\")\n",
    "\n",
    "#len(data_frame_all[data_frame_all[:,0]==Angers])\n",
    "\n",
    "columns = ['Angers','Paris-SG','Rennes','Marseille','Nice','Lens','Brest','Lille','Strasbourg','Monaco','Montpellier','Lyon','Nantes','Reims','Troyes','Lorient','Clermont','Bordeaux','Metz','Saint-Etienne']\n",
    "\n",
    "angers=np.array(([pt_angers]))\n",
    "bordeaux=np.array(([pt_bordeaux]))\n",
    "brest=np.array(([pt_brest]))\n",
    "clermont=np.array(([pt_clemont]))\n",
    "lens=np.array(([pt_lens]))\n",
    "lille=np.array(([pt_lille]))\n",
    "lorient=np.array(([pt_lorient]))\n",
    "lyon=np.array(([pt_lyon]))\n",
    "marseille=np.array(([pt_marseille]))\n",
    "metz=np.array(([pt_metz]))\n",
    "monaco=np.array(([pt_monaco]))\n",
    "montpellier=np.array(([pt_montpellier]))\n",
    "nantes=np.array(([pt_nantes]))\n",
    "nice=np.array(([pt_nice]))\n",
    "paris=np.array(([pt_paris]))\n",
    "reims=np.array(([pt_reims]))\n",
    "rennes=np.array(([pt_rennes]))\n",
    "etienne=np.array(([pt_sant_etienne]))\n",
    "strasbourg=np.array(([pt_strasbourg]))\n",
    "troyes=np.array(([pt_troyes]))\n",
    "\n",
    "recap=pandas.Series(['angers','bordeaux','brest','clermont','lens','lille','lorient','lyon','marseille','metz','monaco','montpellier','nantes','nice','paris','reims','rennes','etienne','strasbourg','troyes'],[pt_angers,pt_bordeaux,pt_brest,pt_clemont,pt_lens,pt_lille,pt_lorient,pt_lyon,pt_marseille,pt_metz,pt_monaco,pt_montpellier,pt_nantes,pt_nice,pt_paris,pt_reims,pt_rennes,pt_sant_etienne,pt_strasbourg,pt_troyes])\n",
    "data_racap=pandas.DataFrame(recap, columns=['club'])\n",
    "#data_racap.sort_index(by = 'Club', ascending = False)\n",
    "print(data_racap)\n",
    "\n"
   ]
  },
  {
   "cell_type": "code",
   "execution_count": 188,
   "id": "e2f77ea7",
   "metadata": {},
   "outputs": [
    {
     "name": "stdout",
     "output_type": "stream",
     "text": [
      "Paris-SG 3\n"
     ]
    }
   ],
   "source": [
    "externe = angers.iloc[0,1]\n",
    "but_externe = angers.iloc[0,3]\n",
    "print(externe, but_externe)"
   ]
  },
  {
   "cell_type": "code",
   "execution_count": 313,
   "id": "7fdcdc4b",
   "metadata": {},
   "outputs": [
    {
     "ename": "TypeError",
     "evalue": "'(slice(None, None, None), 0)' is an invalid key",
     "output_type": "error",
     "traceback": [
      "\u001b[1;31m---------------------------------------------------------------------------\u001b[0m",
      "\u001b[1;31mTypeError\u001b[0m                                 Traceback (most recent call last)",
      "\u001b[1;32m~\\AppData\\Local\\Temp/ipykernel_27000/1018799756.py\u001b[0m in \u001b[0;36m<module>\u001b[1;34m\u001b[0m\n\u001b[1;32m----> 1\u001b[1;33m \u001b[0mdata_frame_all\u001b[0m\u001b[1;33m[\u001b[0m\u001b[1;33m:\u001b[0m\u001b[1;33m,\u001b[0m\u001b[1;36m0\u001b[0m\u001b[1;33m]\u001b[0m\u001b[1;33m\u001b[0m\u001b[1;33m\u001b[0m\u001b[0m\n\u001b[0m",
      "\u001b[1;32m~\\Documents\\Anaconda3\\lib\\site-packages\\pandas\\core\\frame.py\u001b[0m in \u001b[0;36m__getitem__\u001b[1;34m(self, key)\u001b[0m\n\u001b[0;32m   3456\u001b[0m             \u001b[1;32mif\u001b[0m \u001b[0mself\u001b[0m\u001b[1;33m.\u001b[0m\u001b[0mcolumns\u001b[0m\u001b[1;33m.\u001b[0m\u001b[0mnlevels\u001b[0m \u001b[1;33m>\u001b[0m \u001b[1;36m1\u001b[0m\u001b[1;33m:\u001b[0m\u001b[1;33m\u001b[0m\u001b[1;33m\u001b[0m\u001b[0m\n\u001b[0;32m   3457\u001b[0m                 \u001b[1;32mreturn\u001b[0m \u001b[0mself\u001b[0m\u001b[1;33m.\u001b[0m\u001b[0m_getitem_multilevel\u001b[0m\u001b[1;33m(\u001b[0m\u001b[0mkey\u001b[0m\u001b[1;33m)\u001b[0m\u001b[1;33m\u001b[0m\u001b[1;33m\u001b[0m\u001b[0m\n\u001b[1;32m-> 3458\u001b[1;33m             \u001b[0mindexer\u001b[0m \u001b[1;33m=\u001b[0m \u001b[0mself\u001b[0m\u001b[1;33m.\u001b[0m\u001b[0mcolumns\u001b[0m\u001b[1;33m.\u001b[0m\u001b[0mget_loc\u001b[0m\u001b[1;33m(\u001b[0m\u001b[0mkey\u001b[0m\u001b[1;33m)\u001b[0m\u001b[1;33m\u001b[0m\u001b[1;33m\u001b[0m\u001b[0m\n\u001b[0m\u001b[0;32m   3459\u001b[0m             \u001b[1;32mif\u001b[0m \u001b[0mis_integer\u001b[0m\u001b[1;33m(\u001b[0m\u001b[0mindexer\u001b[0m\u001b[1;33m)\u001b[0m\u001b[1;33m:\u001b[0m\u001b[1;33m\u001b[0m\u001b[1;33m\u001b[0m\u001b[0m\n\u001b[0;32m   3460\u001b[0m                 \u001b[0mindexer\u001b[0m \u001b[1;33m=\u001b[0m \u001b[1;33m[\u001b[0m\u001b[0mindexer\u001b[0m\u001b[1;33m]\u001b[0m\u001b[1;33m\u001b[0m\u001b[1;33m\u001b[0m\u001b[0m\n",
      "\u001b[1;32m~\\Documents\\Anaconda3\\lib\\site-packages\\pandas\\core\\indexes\\base.py\u001b[0m in \u001b[0;36mget_loc\u001b[1;34m(self, key, method, tolerance)\u001b[0m\n\u001b[0;32m   3359\u001b[0m             \u001b[0mcasted_key\u001b[0m \u001b[1;33m=\u001b[0m \u001b[0mself\u001b[0m\u001b[1;33m.\u001b[0m\u001b[0m_maybe_cast_indexer\u001b[0m\u001b[1;33m(\u001b[0m\u001b[0mkey\u001b[0m\u001b[1;33m)\u001b[0m\u001b[1;33m\u001b[0m\u001b[1;33m\u001b[0m\u001b[0m\n\u001b[0;32m   3360\u001b[0m             \u001b[1;32mtry\u001b[0m\u001b[1;33m:\u001b[0m\u001b[1;33m\u001b[0m\u001b[1;33m\u001b[0m\u001b[0m\n\u001b[1;32m-> 3361\u001b[1;33m                 \u001b[1;32mreturn\u001b[0m \u001b[0mself\u001b[0m\u001b[1;33m.\u001b[0m\u001b[0m_engine\u001b[0m\u001b[1;33m.\u001b[0m\u001b[0mget_loc\u001b[0m\u001b[1;33m(\u001b[0m\u001b[0mcasted_key\u001b[0m\u001b[1;33m)\u001b[0m\u001b[1;33m\u001b[0m\u001b[1;33m\u001b[0m\u001b[0m\n\u001b[0m\u001b[0;32m   3362\u001b[0m             \u001b[1;32mexcept\u001b[0m \u001b[0mKeyError\u001b[0m \u001b[1;32mas\u001b[0m \u001b[0merr\u001b[0m\u001b[1;33m:\u001b[0m\u001b[1;33m\u001b[0m\u001b[1;33m\u001b[0m\u001b[0m\n\u001b[0;32m   3363\u001b[0m                 \u001b[1;32mraise\u001b[0m \u001b[0mKeyError\u001b[0m\u001b[1;33m(\u001b[0m\u001b[0mkey\u001b[0m\u001b[1;33m)\u001b[0m \u001b[1;32mfrom\u001b[0m \u001b[0merr\u001b[0m\u001b[1;33m\u001b[0m\u001b[1;33m\u001b[0m\u001b[0m\n",
      "\u001b[1;32m~\\Documents\\Anaconda3\\lib\\site-packages\\pandas\\_libs\\index.pyx\u001b[0m in \u001b[0;36mpandas._libs.index.IndexEngine.get_loc\u001b[1;34m()\u001b[0m\n",
      "\u001b[1;32m~\\Documents\\Anaconda3\\lib\\site-packages\\pandas\\_libs\\index.pyx\u001b[0m in \u001b[0;36mpandas._libs.index.IndexEngine.get_loc\u001b[1;34m()\u001b[0m\n",
      "\u001b[1;31mTypeError\u001b[0m: '(slice(None, None, None), 0)' is an invalid key"
     ]
    }
   ],
   "source": [
    "data_frame_all[:,0]"
   ]
  }
 ],
 "metadata": {
  "kernelspec": {
   "display_name": "Python 3 (ipykernel)",
   "language": "python",
   "name": "python3"
  },
  "language_info": {
   "codemirror_mode": {
    "name": "ipython",
    "version": 3
   },
   "file_extension": ".py",
   "mimetype": "text/x-python",
   "name": "python",
   "nbconvert_exporter": "python",
   "pygments_lexer": "ipython3",
   "version": "3.9.7"
  }
 },
 "nbformat": 4,
 "nbformat_minor": 5
}
